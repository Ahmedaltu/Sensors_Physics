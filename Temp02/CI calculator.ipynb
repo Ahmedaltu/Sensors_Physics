{
 "cells": [
  {
   "cell_type": "markdown",
   "id": "c1d9f989-99a7-496c-bbfe-01f0bba47355",
   "metadata": {},
   "source": [
    "# Confidence interval calculator\n",
    "Sensor Physics 2022<br>\n",
    "Metropolia University of Applied Sciences"
   ]
  },
  {
   "cell_type": "code",
   "execution_count": 1,
   "id": "c8019dcf-0c02-4398-ad9c-9bfa8986ab6d",
   "metadata": {},
   "outputs": [],
   "source": [
    "# Import libraries\n",
    "import numpy as np\n",
    "import scipy.stats as st"
   ]
  },
  {
   "cell_type": "code",
   "execution_count": 2,
   "id": "240b6da8-d318-4ea7-a8db-4f2590d156cd",
   "metadata": {},
   "outputs": [
    {
     "name": "stdout",
     "output_type": "stream",
     "text": [
      "    5.60\n",
      "    5.40\n",
      "    5.70\n",
      "    5.40\n",
      "    5.80\n",
      "    5.30\n"
     ]
    }
   ],
   "source": [
    "# Example dataset\n",
    "data = np.array([ 5.60,  5.40,  5.70,  5.40,  5.80, 5.30])\n",
    "\n",
    "for d in data:\n",
    "    print(f'{d:8.2f}')"
   ]
  },
  {
   "cell_type": "code",
   "execution_count": 3,
   "id": "ff9e7d19-58d5-417b-abd8-fedf4b77695f",
   "metadata": {
    "tags": []
   },
   "outputs": [
    {
     "name": "stdout",
     "output_type": "stream",
     "text": [
      "mean = 5.5333\n",
      "std  = 0.1966\n",
      "CI   = 0.1573\n"
     ]
    }
   ],
   "source": [
    "# Calculate sample mean, sample std and confidence interval\n",
    "\n",
    "m = np.mean(data)\n",
    "s = np.std(data, ddof = 1)\n",
    "ci = 1.96*s/np.sqrt(len(data))\n",
    "\n",
    "print(f'mean = {m:.4f}')\n",
    "print(f'std  = {s:.4f}')\n",
    "print(f'CI   = {ci:.4f}')"
   ]
  },
  {
   "cell_type": "code",
   "execution_count": 4,
   "id": "e8a1ea37-d4f0-48da-a609-5dd7164f3a21",
   "metadata": {},
   "outputs": [
    {
     "name": "stdout",
     "output_type": "stream",
     "text": [
      "CI = [5.376, 5.691]\n"
     ]
    }
   ],
   "source": [
    "# CI min and max values\n",
    "\n",
    "print(f'CI = [{m - ci:.3f}, {m + ci:.3f}]')"
   ]
  },
  {
   "cell_type": "code",
   "execution_count": 5,
   "id": "12c15c7b-45b1-48f6-b9f5-c129c81afddb",
   "metadata": {},
   "outputs": [
    {
     "name": "stdout",
     "output_type": "stream",
     "text": [
      "Confidence interval calculated with statistics norm.interval function:\n",
      "CI = [5.376, 5.691]\n"
     ]
    }
   ],
   "source": [
    "# Check if we get same results with statistics norm.interval function\n",
    "ci1 = st.norm.interval(0.95, loc = np.mean(data), scale = st.sem(data))\n",
    "\n",
    "print('Confidence interval calculated with statistics norm.interval function:')\n",
    "print(f'CI = [{ci1[0]:.3f}, {ci1[1]:.3f}]')"
   ]
  },
  {
   "cell_type": "code",
   "execution_count": 6,
   "id": "7d095cdd-f31d-4430-8696-b75a43475823",
   "metadata": {},
   "outputs": [
    {
     "name": "stdout",
     "output_type": "stream",
     "text": [
      "Confidence interval calculated with statistics t.interval function:\n",
      "CI = [5.327, 5.740]\n"
     ]
    }
   ],
   "source": [
    "# Student's t-interval gives wider confidence interval as it takes account the inaccuracies of few measurements\n",
    "ci2 = st.t.interval(0.95, len(data)-1, loc=np.mean(data), scale=st.sem(data))\n",
    "\n",
    "print('Confidence interval calculated with statistics t.interval function:')\n",
    "print(f'CI = [{ci2[0]:.3f}, {ci2[1]:.3f}]')"
   ]
  },
  {
   "cell_type": "markdown",
   "id": "43824a80-252f-42cd-8085-805b495f143a",
   "metadata": {},
   "source": [
    "More info:\n",
    "- [Confidence interval (Wikipedia)](https://en.wikipedia.org/wiki/Confidence_interval)\n",
    "- [Confidence interval calculator](https://www.calculator.net/confidence-interval-calculator.html?size=6&mean=5.533&sd=0.197&cl=95&x=65&y=18)\n",
    "- [scipy.stats.norm](https://docs.scipy.org/doc/scipy/reference/generated/scipy.stats.norm.html)\n",
    "- [scipy.stats.t](https://docs.scipy.org/doc/scipy/reference/generated/scipy.stats.t.html)"
   ]
  }
 ],
 "metadata": {
  "kernelspec": {
   "display_name": "Python 3 (ipykernel)",
   "language": "python",
   "name": "python3"
  },
  "language_info": {
   "codemirror_mode": {
    "name": "ipython",
    "version": 3
   },
   "file_extension": ".py",
   "mimetype": "text/x-python",
   "name": "python",
   "nbconvert_exporter": "python",
   "pygments_lexer": "ipython3",
   "version": "3.9.7"
  }
 },
 "nbformat": 4,
 "nbformat_minor": 5
}
